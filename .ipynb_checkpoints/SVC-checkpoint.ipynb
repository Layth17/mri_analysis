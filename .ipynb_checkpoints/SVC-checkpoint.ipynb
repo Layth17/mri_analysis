{
 "cells": [
  {
   "cell_type": "markdown",
   "id": "1043e106",
   "metadata": {},
   "source": [
    "# C-Support Vector Classification"
   ]
  },
  {
   "cell_type": "code",
   "execution_count": 3,
   "id": "b186b534",
   "metadata": {},
   "outputs": [],
   "source": [
    "# libraries\n",
    "import numpy as np\n",
    "import pandas as pd\n",
    "import os\n",
    "import tensorflow as tf\n",
    "import matplotlib.pyplot as plt\n",
    "import imageio.v3 as imageio\n",
    "import cv2"
   ]
  },
  {
   "cell_type": "code",
   "execution_count": 4,
   "id": "683f95c0",
   "metadata": {},
   "outputs": [],
   "source": [
    "# Get directories\n",
    "train_dir = \"C:/Users/bodin/School/MATH 5680/Projec/tumor_images/Training\"\n",
    "test_dir = \"C:/Users/bodin/School/MATH 5680/Projec/tumor_images/Testing\"\n",
    "\n",
    "labels = [\"glioma_tumor\",\"meningioma_tumor\",\"no_tumor\",\"pituitary_tumor\"]"
   ]
  },
  {
   "cell_type": "code",
   "execution_count": 5,
   "id": "6ea45daa",
   "metadata": {},
   "outputs": [],
   "source": [
    "# Create list of data\n",
    "train_img_list = []\n",
    "test_img_list = []\n",
    "\n",
    "test_label_list = []\n",
    "train_label_list = []\n",
    "\n",
    "# Training dataset\n",
    "for label in labels:\n",
    "    for img_file in os.listdir(train_dir + '/' + label):\n",
    "        img = cv2.imread(train_dir + '/' + label + '/' + img_file)\n",
    "        img = cv2.resize(img, (200,200))\n",
    "        train_img_list.append(img)\n",
    "        train_label_list.append(label)\n",
    "\n",
    "# Testing dataset\n",
    "for label in labels:\n",
    "    for img_file in os.listdir(test_dir + '/' + label):\n",
    "        img = cv2.imread(test_dir + '/' + label + '/' + img_file)\n",
    "        img = cv2.resize(img, (200,200))\n",
    "        test_img_list.append(img)\n",
    "        test_label_list.append(label)"
   ]
  },
  {
   "cell_type": "code",
   "execution_count": 6,
   "id": "c64a4fe6",
   "metadata": {},
   "outputs": [],
   "source": [
    "# Encode labels\n",
    "from sklearn.preprocessing import LabelEncoder\n",
    "label_encoder = LabelEncoder()\n",
    "\n",
    "train_label_list = label_encoder.fit_transform(train_label_list)\n",
    "test_label_list = label_encoder.fit_transform(test_label_list)\n",
    "\n",
    "# Convert images to int64 array\n",
    "train_img_list = np.array(train_img_list).astype(np.int64)\n",
    "test_img_list = np.array(test_img_list).astype(np.int64)"
   ]
  },
  {
   "cell_type": "code",
   "execution_count": 7,
   "id": "ba1380f8",
   "metadata": {},
   "outputs": [
    {
     "data": {
      "text/plain": [
       "3    827\n",
       "0    826\n",
       "1    822\n",
       "2    395\n",
       "dtype: int64"
      ]
     },
     "execution_count": 7,
     "metadata": {},
     "output_type": "execute_result"
    }
   ],
   "source": [
    "# Value Counts for each type of tumor\n",
    "\"\"\"\n",
    "Pituitary = 3\n",
    "Glioma = 0\n",
    "Meningioma = 1\n",
    "None = 2\n",
    "\"\"\"\n",
    "pd.Series(train_label_list).value_counts()"
   ]
  },
  {
   "cell_type": "code",
   "execution_count": 8,
   "id": "2c705d20",
   "metadata": {},
   "outputs": [],
   "source": [
    "# Convert images from (200, 200, 3) to column vector (120000)\n",
    "X_train = train_img_list.reshape(len(train_img_list), -1)\n",
    "X_test = test_img_list.reshape(len(test_img_list), -1)\n",
    "Y_train = train_label_list\n",
    "Y_test = test_label_list"
   ]
  },
  {
   "cell_type": "code",
   "execution_count": 9,
   "id": "e1df4ebf",
   "metadata": {},
   "outputs": [],
   "source": [
    "# Standardize values between 0-1\n",
    "X_train = X_train / 255\n",
    "X_test = X_test / 255"
   ]
  },
  {
   "cell_type": "code",
   "execution_count": 10,
   "id": "1dcb5352",
   "metadata": {},
   "outputs": [],
   "source": [
    "### Not necessary in current state, may delete ###\n",
    "\n",
    "#from sklearn.decomposition import PCA\n",
    "#pca = PCA(.5)\n",
    "\n",
    "#pca_train = pca.fit_transform(X_train)\n",
    "#pca_test = pca.transform(X_test)\n",
    "\n",
    "#pca_train = X_train\n",
    "#pca_test = X_test"
   ]
  },
  {
   "cell_type": "code",
   "execution_count": 11,
   "id": "da298a9b",
   "metadata": {},
   "outputs": [
    {
     "name": "stdout",
     "output_type": "stream",
     "text": [
      "Fitting 5 folds for each of 12 candidates, totalling 60 fits\n",
      "[CV] END ...............................C=0.1, kernel=linear; total time=  43.6s\n",
      "[CV] END ...............................C=0.1, kernel=linear; total time=  41.6s\n",
      "[CV] END ...............................C=0.1, kernel=linear; total time=  41.1s\n",
      "[CV] END ...............................C=0.1, kernel=linear; total time=  40.8s\n",
      "[CV] END ...............................C=0.1, kernel=linear; total time=  41.4s\n",
      "[CV] END .................................C=0.1, kernel=poly; total time=  43.7s\n",
      "[CV] END .................................C=0.1, kernel=poly; total time=  43.7s\n",
      "[CV] END .................................C=0.1, kernel=poly; total time=  43.5s\n",
      "[CV] END .................................C=0.1, kernel=poly; total time=  43.8s\n",
      "[CV] END .................................C=0.1, kernel=poly; total time=  43.5s\n",
      "[CV] END ..................................C=0.1, kernel=rbf; total time= 1.4min\n",
      "[CV] END ..................................C=0.1, kernel=rbf; total time= 1.5min\n",
      "[CV] END ..................................C=0.1, kernel=rbf; total time= 1.4min\n",
      "[CV] END ..................................C=0.1, kernel=rbf; total time= 1.4min\n",
      "[CV] END ..................................C=0.1, kernel=rbf; total time= 1.4min\n",
      "[CV] END ..............................C=0.1, kernel=sigmoid; total time=  43.7s\n",
      "[CV] END ..............................C=0.1, kernel=sigmoid; total time=  43.9s\n",
      "[CV] END ..............................C=0.1, kernel=sigmoid; total time=  43.6s\n",
      "[CV] END ..............................C=0.1, kernel=sigmoid; total time=  43.6s\n",
      "[CV] END ..............................C=0.1, kernel=sigmoid; total time=  43.4s\n",
      "[CV] END .................................C=1, kernel=linear; total time=  40.5s\n",
      "[CV] END .................................C=1, kernel=linear; total time=  40.9s\n",
      "[CV] END .................................C=1, kernel=linear; total time=  40.9s\n",
      "[CV] END .................................C=1, kernel=linear; total time=  40.1s\n",
      "[CV] END .................................C=1, kernel=linear; total time=  40.8s\n",
      "[CV] END ...................................C=1, kernel=poly; total time=  39.6s\n",
      "[CV] END ...................................C=1, kernel=poly; total time=  40.2s\n",
      "[CV] END ...................................C=1, kernel=poly; total time=  40.3s\n",
      "[CV] END ...................................C=1, kernel=poly; total time=  39.6s\n",
      "[CV] END ...................................C=1, kernel=poly; total time=  40.5s\n",
      "[CV] END ....................................C=1, kernel=rbf; total time= 1.4min\n",
      "[CV] END ....................................C=1, kernel=rbf; total time= 1.5min\n",
      "[CV] END ....................................C=1, kernel=rbf; total time= 1.4min\n",
      "[CV] END ....................................C=1, kernel=rbf; total time= 1.4min\n",
      "[CV] END ....................................C=1, kernel=rbf; total time= 1.5min\n",
      "[CV] END ................................C=1, kernel=sigmoid; total time=  43.0s\n",
      "[CV] END ................................C=1, kernel=sigmoid; total time=  43.3s\n",
      "[CV] END ................................C=1, kernel=sigmoid; total time=  43.1s\n",
      "[CV] END ................................C=1, kernel=sigmoid; total time=  42.7s\n",
      "[CV] END ................................C=1, kernel=sigmoid; total time=  42.7s\n",
      "[CV] END ................................C=10, kernel=linear; total time=  39.8s\n",
      "[CV] END ................................C=10, kernel=linear; total time=  40.3s\n",
      "[CV] END ................................C=10, kernel=linear; total time=  40.1s\n",
      "[CV] END ................................C=10, kernel=linear; total time=  40.5s\n",
      "[CV] END ................................C=10, kernel=linear; total time=  40.3s\n",
      "[CV] END ..................................C=10, kernel=poly; total time=  37.2s\n",
      "[CV] END ..................................C=10, kernel=poly; total time=  37.9s\n",
      "[CV] END ..................................C=10, kernel=poly; total time=  37.6s\n",
      "[CV] END ..................................C=10, kernel=poly; total time=  37.7s\n",
      "[CV] END ..................................C=10, kernel=poly; total time=  38.6s\n",
      "[CV] END ...................................C=10, kernel=rbf; total time= 1.4min\n",
      "[CV] END ...................................C=10, kernel=rbf; total time= 1.4min\n",
      "[CV] END ...................................C=10, kernel=rbf; total time= 1.4min\n",
      "[CV] END ...................................C=10, kernel=rbf; total time= 1.4min\n",
      "[CV] END ...................................C=10, kernel=rbf; total time= 1.4min\n",
      "[CV] END ...............................C=10, kernel=sigmoid; total time=  42.1s\n",
      "[CV] END ...............................C=10, kernel=sigmoid; total time=  43.0s\n",
      "[CV] END ...............................C=10, kernel=sigmoid; total time=  42.3s\n",
      "[CV] END ...............................C=10, kernel=sigmoid; total time=  42.8s\n",
      "[CV] END ...............................C=10, kernel=sigmoid; total time=  43.4s\n"
     ]
    },
    {
     "data": {
      "text/html": [
       "<style>#sk-container-id-1 {color: black;background-color: white;}#sk-container-id-1 pre{padding: 0;}#sk-container-id-1 div.sk-toggleable {background-color: white;}#sk-container-id-1 label.sk-toggleable__label {cursor: pointer;display: block;width: 100%;margin-bottom: 0;padding: 0.3em;box-sizing: border-box;text-align: center;}#sk-container-id-1 label.sk-toggleable__label-arrow:before {content: \"▸\";float: left;margin-right: 0.25em;color: #696969;}#sk-container-id-1 label.sk-toggleable__label-arrow:hover:before {color: black;}#sk-container-id-1 div.sk-estimator:hover label.sk-toggleable__label-arrow:before {color: black;}#sk-container-id-1 div.sk-toggleable__content {max-height: 0;max-width: 0;overflow: hidden;text-align: left;background-color: #f0f8ff;}#sk-container-id-1 div.sk-toggleable__content pre {margin: 0.2em;color: black;border-radius: 0.25em;background-color: #f0f8ff;}#sk-container-id-1 input.sk-toggleable__control:checked~div.sk-toggleable__content {max-height: 200px;max-width: 100%;overflow: auto;}#sk-container-id-1 input.sk-toggleable__control:checked~label.sk-toggleable__label-arrow:before {content: \"▾\";}#sk-container-id-1 div.sk-estimator input.sk-toggleable__control:checked~label.sk-toggleable__label {background-color: #d4ebff;}#sk-container-id-1 div.sk-label input.sk-toggleable__control:checked~label.sk-toggleable__label {background-color: #d4ebff;}#sk-container-id-1 input.sk-hidden--visually {border: 0;clip: rect(1px 1px 1px 1px);clip: rect(1px, 1px, 1px, 1px);height: 1px;margin: -1px;overflow: hidden;padding: 0;position: absolute;width: 1px;}#sk-container-id-1 div.sk-estimator {font-family: monospace;background-color: #f0f8ff;border: 1px dotted black;border-radius: 0.25em;box-sizing: border-box;margin-bottom: 0.5em;}#sk-container-id-1 div.sk-estimator:hover {background-color: #d4ebff;}#sk-container-id-1 div.sk-parallel-item::after {content: \"\";width: 100%;border-bottom: 1px solid gray;flex-grow: 1;}#sk-container-id-1 div.sk-label:hover label.sk-toggleable__label {background-color: #d4ebff;}#sk-container-id-1 div.sk-serial::before {content: \"\";position: absolute;border-left: 1px solid gray;box-sizing: border-box;top: 0;bottom: 0;left: 50%;z-index: 0;}#sk-container-id-1 div.sk-serial {display: flex;flex-direction: column;align-items: center;background-color: white;padding-right: 0.2em;padding-left: 0.2em;position: relative;}#sk-container-id-1 div.sk-item {position: relative;z-index: 1;}#sk-container-id-1 div.sk-parallel {display: flex;align-items: stretch;justify-content: center;background-color: white;position: relative;}#sk-container-id-1 div.sk-item::before, #sk-container-id-1 div.sk-parallel-item::before {content: \"\";position: absolute;border-left: 1px solid gray;box-sizing: border-box;top: 0;bottom: 0;left: 50%;z-index: -1;}#sk-container-id-1 div.sk-parallel-item {display: flex;flex-direction: column;z-index: 1;position: relative;background-color: white;}#sk-container-id-1 div.sk-parallel-item:first-child::after {align-self: flex-end;width: 50%;}#sk-container-id-1 div.sk-parallel-item:last-child::after {align-self: flex-start;width: 50%;}#sk-container-id-1 div.sk-parallel-item:only-child::after {width: 0;}#sk-container-id-1 div.sk-dashed-wrapped {border: 1px dashed gray;margin: 0 0.4em 0.5em 0.4em;box-sizing: border-box;padding-bottom: 0.4em;background-color: white;}#sk-container-id-1 div.sk-label label {font-family: monospace;font-weight: bold;display: inline-block;line-height: 1.2em;}#sk-container-id-1 div.sk-label-container {text-align: center;}#sk-container-id-1 div.sk-container {/* jupyter's `normalize.less` sets `[hidden] { display: none; }` but bootstrap.min.css set `[hidden] { display: none !important; }` so we also need the `!important` here to be able to override the default hidden behavior on the sphinx rendered scikit-learn.org. See: https://github.com/scikit-learn/scikit-learn/issues/21755 */display: inline-block !important;position: relative;}#sk-container-id-1 div.sk-text-repr-fallback {display: none;}</style><div id=\"sk-container-id-1\" class=\"sk-top-container\"><div class=\"sk-text-repr-fallback\"><pre>GridSearchCV(cv=5, estimator=SVC(max_iter=100),\n",
       "             param_grid={&#x27;C&#x27;: [0.1, 1, 10],\n",
       "                         &#x27;kernel&#x27;: [&#x27;linear&#x27;, &#x27;poly&#x27;, &#x27;rbf&#x27;, &#x27;sigmoid&#x27;]},\n",
       "             scoring=&#x27;accuracy&#x27;, verbose=2)</pre><b>In a Jupyter environment, please rerun this cell to show the HTML representation or trust the notebook. <br />On GitHub, the HTML representation is unable to render, please try loading this page with nbviewer.org.</b></div><div class=\"sk-container\" hidden><div class=\"sk-item sk-dashed-wrapped\"><div class=\"sk-label-container\"><div class=\"sk-label sk-toggleable\"><input class=\"sk-toggleable__control sk-hidden--visually\" id=\"sk-estimator-id-1\" type=\"checkbox\" ><label for=\"sk-estimator-id-1\" class=\"sk-toggleable__label sk-toggleable__label-arrow\">GridSearchCV</label><div class=\"sk-toggleable__content\"><pre>GridSearchCV(cv=5, estimator=SVC(max_iter=100),\n",
       "             param_grid={&#x27;C&#x27;: [0.1, 1, 10],\n",
       "                         &#x27;kernel&#x27;: [&#x27;linear&#x27;, &#x27;poly&#x27;, &#x27;rbf&#x27;, &#x27;sigmoid&#x27;]},\n",
       "             scoring=&#x27;accuracy&#x27;, verbose=2)</pre></div></div></div><div class=\"sk-parallel\"><div class=\"sk-parallel-item\"><div class=\"sk-item\"><div class=\"sk-label-container\"><div class=\"sk-label sk-toggleable\"><input class=\"sk-toggleable__control sk-hidden--visually\" id=\"sk-estimator-id-2\" type=\"checkbox\" ><label for=\"sk-estimator-id-2\" class=\"sk-toggleable__label sk-toggleable__label-arrow\">estimator: SVC</label><div class=\"sk-toggleable__content\"><pre>SVC(max_iter=100)</pre></div></div></div><div class=\"sk-serial\"><div class=\"sk-item\"><div class=\"sk-estimator sk-toggleable\"><input class=\"sk-toggleable__control sk-hidden--visually\" id=\"sk-estimator-id-3\" type=\"checkbox\" ><label for=\"sk-estimator-id-3\" class=\"sk-toggleable__label sk-toggleable__label-arrow\">SVC</label><div class=\"sk-toggleable__content\"><pre>SVC(max_iter=100)</pre></div></div></div></div></div></div></div></div></div></div>"
      ],
      "text/plain": [
       "GridSearchCV(cv=5, estimator=SVC(max_iter=100),\n",
       "             param_grid={'C': [0.1, 1, 10],\n",
       "                         'kernel': ['linear', 'poly', 'rbf', 'sigmoid']},\n",
       "             scoring='accuracy', verbose=2)"
      ]
     },
     "execution_count": 11,
     "metadata": {},
     "output_type": "execute_result"
    }
   ],
   "source": [
    "from sklearn.svm import SVC\n",
    "from sklearn.model_selection import GridSearchCV\n",
    "import warnings\n",
    "from sklearn.exceptions import ConvergenceWarning\n",
    "\n",
    "# Ignore convergence warnings\n",
    "warnings.filterwarnings(\"ignore\", category=ConvergenceWarning)\n",
    "\n",
    "\"\"\"\n",
    "SVC parameters to alter:\n",
    "\n",
    "C: Regularization parameter. The strength of the regularization \n",
    "is inversely proportional to C. Must be strictly positive. \n",
    "The penalty is a squared l2 penalty. [default=1.0]\n",
    "\n",
    "kernel: Specifies the kernel type to be used in the algorithm.\n",
    "{‘linear’, ‘poly’, ‘rbf’, ‘sigmoid’, ‘precomputed’}\n",
    "[default=rbf]\n",
    "\n",
    "degree: Degree of the polynomial kernel function (‘poly’)\n",
    "[default = 3]\n",
    "\n",
    "gamma: Kernel coefficient for ‘rbf’, ‘poly’ and ‘sigmoid’.\n",
    "[default = 'scale']\n",
    "\n",
    "tol: Tolerance for stopping criterion.\n",
    "[default = 1e-3]\n",
    "\n",
    "\"\"\"\n",
    "sv = SVC(max_iter=100)\n",
    "param_grid = {'kernel': ['linear', 'poly', 'rbf', 'sigmoid'],\n",
    "             'C': [0.1, 1, 10]}\n",
    "\n",
    "grid_search = GridSearchCV(sv, param_grid, cv=5, scoring='accuracy', verbose=2)\n",
    "grid_search.fit(X_train, Y_train)\n",
    "\n"
   ]
  },
  {
   "cell_type": "code",
   "execution_count": 12,
   "id": "b93de861",
   "metadata": {},
   "outputs": [
    {
     "name": "stdout",
     "output_type": "stream",
     "text": [
      "Best Parameters:  {'C': 10, 'kernel': 'rbf'}\n",
      "Best Accuracy Score: 0.6819\n"
     ]
    }
   ],
   "source": [
    "# Print the best parameters and corresponding accuracy score\n",
    "print(\"Best Parameters: \", grid_search.best_params_)\n",
    "print(\"Best Accuracy Score: {:.4f}\".format(grid_search.best_score_))"
   ]
  },
  {
   "cell_type": "code",
   "execution_count": 14,
   "id": "7eb37c21",
   "metadata": {},
   "outputs": [
    {
     "data": {
      "text/html": [
       "<style>#sk-container-id-2 {color: black;background-color: white;}#sk-container-id-2 pre{padding: 0;}#sk-container-id-2 div.sk-toggleable {background-color: white;}#sk-container-id-2 label.sk-toggleable__label {cursor: pointer;display: block;width: 100%;margin-bottom: 0;padding: 0.3em;box-sizing: border-box;text-align: center;}#sk-container-id-2 label.sk-toggleable__label-arrow:before {content: \"▸\";float: left;margin-right: 0.25em;color: #696969;}#sk-container-id-2 label.sk-toggleable__label-arrow:hover:before {color: black;}#sk-container-id-2 div.sk-estimator:hover label.sk-toggleable__label-arrow:before {color: black;}#sk-container-id-2 div.sk-toggleable__content {max-height: 0;max-width: 0;overflow: hidden;text-align: left;background-color: #f0f8ff;}#sk-container-id-2 div.sk-toggleable__content pre {margin: 0.2em;color: black;border-radius: 0.25em;background-color: #f0f8ff;}#sk-container-id-2 input.sk-toggleable__control:checked~div.sk-toggleable__content {max-height: 200px;max-width: 100%;overflow: auto;}#sk-container-id-2 input.sk-toggleable__control:checked~label.sk-toggleable__label-arrow:before {content: \"▾\";}#sk-container-id-2 div.sk-estimator input.sk-toggleable__control:checked~label.sk-toggleable__label {background-color: #d4ebff;}#sk-container-id-2 div.sk-label input.sk-toggleable__control:checked~label.sk-toggleable__label {background-color: #d4ebff;}#sk-container-id-2 input.sk-hidden--visually {border: 0;clip: rect(1px 1px 1px 1px);clip: rect(1px, 1px, 1px, 1px);height: 1px;margin: -1px;overflow: hidden;padding: 0;position: absolute;width: 1px;}#sk-container-id-2 div.sk-estimator {font-family: monospace;background-color: #f0f8ff;border: 1px dotted black;border-radius: 0.25em;box-sizing: border-box;margin-bottom: 0.5em;}#sk-container-id-2 div.sk-estimator:hover {background-color: #d4ebff;}#sk-container-id-2 div.sk-parallel-item::after {content: \"\";width: 100%;border-bottom: 1px solid gray;flex-grow: 1;}#sk-container-id-2 div.sk-label:hover label.sk-toggleable__label {background-color: #d4ebff;}#sk-container-id-2 div.sk-serial::before {content: \"\";position: absolute;border-left: 1px solid gray;box-sizing: border-box;top: 0;bottom: 0;left: 50%;z-index: 0;}#sk-container-id-2 div.sk-serial {display: flex;flex-direction: column;align-items: center;background-color: white;padding-right: 0.2em;padding-left: 0.2em;position: relative;}#sk-container-id-2 div.sk-item {position: relative;z-index: 1;}#sk-container-id-2 div.sk-parallel {display: flex;align-items: stretch;justify-content: center;background-color: white;position: relative;}#sk-container-id-2 div.sk-item::before, #sk-container-id-2 div.sk-parallel-item::before {content: \"\";position: absolute;border-left: 1px solid gray;box-sizing: border-box;top: 0;bottom: 0;left: 50%;z-index: -1;}#sk-container-id-2 div.sk-parallel-item {display: flex;flex-direction: column;z-index: 1;position: relative;background-color: white;}#sk-container-id-2 div.sk-parallel-item:first-child::after {align-self: flex-end;width: 50%;}#sk-container-id-2 div.sk-parallel-item:last-child::after {align-self: flex-start;width: 50%;}#sk-container-id-2 div.sk-parallel-item:only-child::after {width: 0;}#sk-container-id-2 div.sk-dashed-wrapped {border: 1px dashed gray;margin: 0 0.4em 0.5em 0.4em;box-sizing: border-box;padding-bottom: 0.4em;background-color: white;}#sk-container-id-2 div.sk-label label {font-family: monospace;font-weight: bold;display: inline-block;line-height: 1.2em;}#sk-container-id-2 div.sk-label-container {text-align: center;}#sk-container-id-2 div.sk-container {/* jupyter's `normalize.less` sets `[hidden] { display: none; }` but bootstrap.min.css set `[hidden] { display: none !important; }` so we also need the `!important` here to be able to override the default hidden behavior on the sphinx rendered scikit-learn.org. See: https://github.com/scikit-learn/scikit-learn/issues/21755 */display: inline-block !important;position: relative;}#sk-container-id-2 div.sk-text-repr-fallback {display: none;}</style><div id=\"sk-container-id-2\" class=\"sk-top-container\"><div class=\"sk-text-repr-fallback\"><pre>SVC(C=10)</pre><b>In a Jupyter environment, please rerun this cell to show the HTML representation or trust the notebook. <br />On GitHub, the HTML representation is unable to render, please try loading this page with nbviewer.org.</b></div><div class=\"sk-container\" hidden><div class=\"sk-item\"><div class=\"sk-estimator sk-toggleable\"><input class=\"sk-toggleable__control sk-hidden--visually\" id=\"sk-estimator-id-4\" type=\"checkbox\" checked><label for=\"sk-estimator-id-4\" class=\"sk-toggleable__label sk-toggleable__label-arrow\">SVC</label><div class=\"sk-toggleable__content\"><pre>SVC(C=10)</pre></div></div></div></div></div>"
      ],
      "text/plain": [
       "SVC(C=10)"
      ]
     },
     "execution_count": 14,
     "metadata": {},
     "output_type": "execute_result"
    }
   ],
   "source": [
    "sv = SVC(kernel='rbf',\n",
    "        C=10)\n",
    "sv.fit(X_train, Y_train)"
   ]
  },
  {
   "cell_type": "code",
   "execution_count": null,
   "id": "2c8d8af8",
   "metadata": {},
   "outputs": [],
   "source": [
    "# Evaluation\n",
    "from sklearn.metrics import (accuracy_score,\n",
    "                             classification_report,\n",
    "                             confusion_matrix)\n",
    "\n",
    "y_pred = sv.predict(X_test)\n",
    "accuracy = accuracy_score(Y_test, y_pred)\n",
    "\n",
    "print(\"Training Score: \", sv.score(X_train, Y_train))\n",
    "print(\"testing Score: \", sv.score(X_test, Y_test))\n",
    "print(f\"Current hyperparameter: {sv.get_params()['C']}\")\n",
    "print(f'Accuracy: {accuracy}\\n')\n",
    "print(f\"Confusion Matrix: \\n\", confusion_matrix(Y_test, y_pred), \"\\n\")\n",
    "print(classification_report(Y_test, y_pred))"
   ]
  },
  {
   "cell_type": "code",
   "execution_count": null,
   "id": "62f411b7",
   "metadata": {},
   "outputs": [],
   "source": []
  }
 ],
 "metadata": {
  "kernelspec": {
   "display_name": "Python 3 (ipykernel)",
   "language": "python",
   "name": "python3"
  },
  "language_info": {
   "codemirror_mode": {
    "name": "ipython",
    "version": 3
   },
   "file_extension": ".py",
   "mimetype": "text/x-python",
   "name": "python",
   "nbconvert_exporter": "python",
   "pygments_lexer": "ipython3",
   "version": "3.10.9"
  }
 },
 "nbformat": 4,
 "nbformat_minor": 5
}
