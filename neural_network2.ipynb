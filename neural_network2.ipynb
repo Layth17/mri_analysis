{
 "cells": [
  {
   "cell_type": "code",
   "execution_count": 1,
   "id": "ac4d7494-89e0-41da-b6be-589cbbab91e7",
   "metadata": {},
   "outputs": [
    {
     "name": "stderr",
     "output_type": "stream",
     "text": [
      "2023-11-26 12:43:42.634915: I tensorflow/tsl/cuda/cudart_stub.cc:28] Could not find cuda drivers on your machine, GPU will not be used.\n",
      "2023-11-26 12:43:42.927912: I tensorflow/tsl/cuda/cudart_stub.cc:28] Could not find cuda drivers on your machine, GPU will not be used.\n",
      "2023-11-26 12:43:42.930559: I tensorflow/core/platform/cpu_feature_guard.cc:182] This TensorFlow binary is optimized to use available CPU instructions in performance-critical operations.\n",
      "To enable the following instructions: AVX2 FMA, in other operations, rebuild TensorFlow with the appropriate compiler flags.\n",
      "2023-11-26 12:43:44.098596: W tensorflow/compiler/tf2tensorrt/utils/py_utils.cc:38] TF-TRT Warning: Could not find TensorRT\n"
     ]
    }
   ],
   "source": [
    "import tensorflow as tf\n",
    "from tensorflow import keras\n",
    "\n",
    "from keras.layers import Dense, MaxPooling2D, Conv2D, Flatten\n",
    "from keras.models import Sequential\n",
    "from keras.losses import SparseCategoricalCrossentropy\n",
    "from keras.optimizers import RMSprop\n",
    "from keras.utils import image_dataset_from_directory\n",
    "\n",
    "from tensorflow.keras.applications import EfficientNetB0\n",
    "\n",
    "from sklearn.metrics import confusion_matrix, accuracy_score\n",
    "\n",
    "import numpy as np\n",
    "import matplotlib.pyplot as plt"
   ]
  },
  {
   "cell_type": "code",
   "execution_count": 4,
   "id": "2ed56bc3-cff8-4b5d-9cda-012e6416143a",
   "metadata": {},
   "outputs": [],
   "source": [
    "# Specify the path to your image dataset\n",
    "dataset_training_path = \"/home/layth/git/mri_analysis/archive/Training/\"\n",
    "dataset_testing_path = \"/home/layth/git/mri_analysis/archive/Testing/\"\n",
    "\n",
    "#dataset_training_path = \"/Users/studentuser/WORKING_BASE/mri_analysis/archive/Training\"\n",
    "#dataset_testing_path = \"/Users/studentuser/WORKING_BASE/mri_analysis/archive/Testing\"\n",
    "\n",
    "RESIZE = 150\n",
    "FLAT = RESIZE * RESIZE * 3"
   ]
  },
  {
   "cell_type": "code",
   "execution_count": 5,
   "id": "c465cdb4-8e2a-4f55-a969-ed9025d9d210",
   "metadata": {},
   "outputs": [
    {
     "name": "stdout",
     "output_type": "stream",
     "text": [
      "Found 2870 files belonging to 4 classes.\n",
      "Found 394 files belonging to 4 classes.\n",
      "\n",
      "Flattening after resize: 150 * 150 * 3 = 67500\n",
      "Shape of X_train: (2870, 150, 150, 3)\n",
      "Shape of X_train_flat: (2870, 67500)\n",
      "Shape of y_train: (2870,)\n",
      "Shape of X_test: (394, 150, 150, 3)\n",
      "Shape of X_test_flat: (394, 67500)\n",
      "Shape of y_val: (394,)\n"
     ]
    }
   ],
   "source": [
    "# image_size: resizes the images\n",
    "# batch_size: how many images at a time\n",
    "# subset: allows me to return a tuple (train_data, val_data)\n",
    "train_data = image_dataset_from_directory(directory=dataset_training_path,\n",
    "                                          image_size=(RESIZE, RESIZE),\n",
    "                                          batch_size=32,\n",
    "                                          color_mode='rgb',\n",
    "                                          seed=42)\n",
    "\n",
    "testing_data = image_dataset_from_directory(directory=dataset_testing_path,\n",
    "                                          image_size=(RESIZE, RESIZE),\n",
    "                                          batch_size=32,\n",
    "                                          color_mode='rgb',\n",
    "                                          seed=42)\n",
    "\n",
    "\n",
    "X_train = []\n",
    "y_train = []\n",
    "X_test = []\n",
    "y_test = []\n",
    "\n",
    "# train_data yields batches. I am 'melting' \n",
    "# all batches together in one big array\n",
    "for images, labels in train_data:\n",
    "  X_train.extend(images.numpy())\n",
    "  y_train.extend(labels.numpy())\n",
    "  \n",
    "for images, labels in testing_data:\n",
    "  X_test.extend(images.numpy())\n",
    "  y_test.extend(labels.numpy())\n",
    "\n",
    "X_train = np.array(X_train) # convert X_train to numpy array\n",
    "X_train = np.divide(X_train, 255) # rescale pixels\n",
    "X_train_flat = X_train.reshape((np.shape(X_train)[0], -1)) # flatten\n",
    "y_train = np.array(y_train)\n",
    "\n",
    "X_test = np.array(X_test) # convert X_val to numpy array\n",
    "X_test = np.divide(X_test, 255) # rescale pixels\n",
    "X_test_flat = X_test.reshape((np.shape(X_test)[0], -1)) # flatten\n",
    "y_test = np.array(y_test)\n",
    "\n",
    "print()\n",
    "print(f\"Flattening after resize: {RESIZE} * {RESIZE} * 3 = {FLAT}\")\n",
    "print(f\"Shape of X_train: {np.shape(X_train)}\")\n",
    "print(f\"Shape of X_train_flat: {np.shape(X_train_flat)}\")\n",
    "print(f\"Shape of y_train: {np.shape(y_train)}\")\n",
    "print(f\"Shape of X_test: {np.shape(X_test)}\")\n",
    "print(f\"Shape of X_test_flat: {np.shape(X_test_flat)}\")\n",
    "print(f\"Shape of y_val: {np.shape(y_test)}\")"
   ]
  },
  {
   "cell_type": "code",
   "execution_count": 6,
   "id": "fb0be3ec-6091-4df6-90a7-f32fb84d71b9",
   "metadata": {},
   "outputs": [],
   "source": [
    "class myCallback(tf.keras.callbacks.Callback):\n",
    "    def __init__(self, target_accuracy):\n",
    "        self.target_accuracy = target_accuracy\n",
    "    def on_epoch_end(self, epoch, logs={}):\n",
    "        if logs.get('accuracy') is not None and logs.get('accuracy') > self.target_accuracy:\n",
    "            print(f\"\\nReached {self.target_accuracy * 100}% accuracy so cancelling training!\")\n",
    "            self.model.stop_training = True    \n",
    "\n",
    "def graph_accuracy_and_loss(history):\n",
    "  # list all data in history\n",
    "  # print(history.history.keys())\n",
    "  \n",
    "  _, axes = plt.subplots(1, 2, figsize=(20,10))\n",
    "  \n",
    "  # summarize history for accuracy\n",
    "  axes[0].plot(history.history['accuracy'])\n",
    "  axes[0].plot(history.history['val_accuracy'])\n",
    "  axes[0].set_title('model accuracy')\n",
    "  axes[0].set_ylabel('accuracy')\n",
    "  axes[0].set_xlabel('epoch')\n",
    "  axes[0].legend(['train', 'test'], loc='upper left')\n",
    "  \n",
    "  # summarize history for loss\n",
    "  axes[1].plot(history.history['loss'])\n",
    "  axes[1].plot(history.history['val_loss'])\n",
    "  axes[1].set_title('model loss')\n",
    "  axes[1].set_ylabel('loss')\n",
    "  axes[1].set_xlabel('epoch')\n",
    "  axes[1].legend(['train', 'test'], loc='upper left')\n",
    "  \n",
    "  plt.show()\n",
    "  \n",
    "  return None\n",
    "\n",
    "def model_accuracy_and_confusion_matrix(model, Xtrain, ytrain, Xtest, ytest):\n",
    "  ypred_train        = model.predict(Xtrain)\n",
    "  ypred_train        = np.argmax(ypred_train, axis=1)\n",
    "  accuracy_train     = accuracy_score(ytrain, ypred_train)\n",
    "  conf_matrix_train  = confusion_matrix(ytrain, ypred_train)\n",
    "  print(f'Accuracy for training data (R^2): {accuracy_train} \\n')\n",
    "  print('Confusion matrix for training data:\\n', conf_matrix_train, '\\n')\n",
    "\n",
    "  ypred_test         = model.predict(Xtest)\n",
    "  ypred_test         = np.argmax(ypred_test, axis=1)\n",
    "  accuracy_train     = accuracy_score(ytest, ypred_test)\n",
    "  conf_matrix_train  = confusion_matrix(ytest, ypred_test)\n",
    "  print(f'Accuracy for testing data (R^2): {accuracy_train} \\n')\n",
    "  print('Confusion matrix for testing data:\\n', conf_matrix_train, '\\n')\n",
    "  return None"
   ]
  },
  {
   "cell_type": "markdown",
   "id": "b0bfbabe-bcd7-4442-8647-99eeb8bf384b",
   "metadata": {},
   "source": [
    "## Transfer Learning"
   ]
  },
  {
   "cell_type": "code",
   "execution_count": 7,
   "id": "e3c271ba-f197-48e9-92b3-09e89a2a99b6",
   "metadata": {},
   "outputs": [
    {
     "name": "stdout",
     "output_type": "stream",
     "text": [
      "Downloading data from https://storage.googleapis.com/keras-applications/efficientnetb0_notop.h5\n",
      "16705208/16705208 [==============================] - 1s 0us/step\n"
     ]
    }
   ],
   "source": [
    "effnet = EfficientNetB0(weights='imagenet', \n",
    "                        include_top=False, \n",
    "                        input_shape=(RESIZE,RESIZE,3))"
   ]
  },
  {
   "cell_type": "code",
   "execution_count": 8,
   "id": "877cd36f-ef89-4c04-95f3-05c1032a9929",
   "metadata": {},
   "outputs": [
    {
     "data": {
      "text/plain": [
       "241"
      ]
     },
     "execution_count": 8,
     "metadata": {},
     "output_type": "execute_result"
    }
   ],
   "source": [
    "model = effnet.output\n",
    "model = tf.keras.layers.GlobalAveragePooling2D()(model)\n",
    "model = tf.keras.layers.Dropout(rate=0.5)(model)\n",
    "model = tf.keras.layers.Dense(4,activation='linear')(model)\n",
    "model = tf.keras.models.Model(inputs=effnet.input, outputs = model)\n",
    "\n",
    "\n",
    "model.compile(loss=SparseCategoricalCrossentropy(from_logits=True),\n",
    "              optimizer = RMSprop(learning_rate=0.001), \n",
    "              metrics= ['accuracy'])\n",
    "\n",
    "len(model.layers)"
   ]
  },
  {
   "cell_type": "code",
   "execution_count": 9,
   "id": "8324e113-6b0a-409f-9d28-3747126b67d9",
   "metadata": {},
   "outputs": [
    {
     "name": "stdout",
     "output_type": "stream",
     "text": [
      "Epoch 1/100\n"
     ]
    },
    {
     "name": "stderr",
     "output_type": "stream",
     "text": [
      "2023-11-26 12:44:20.790659: W tensorflow/tsl/framework/cpu_allocator_impl.cc:83] Allocation of 658530000 exceeds 10% of free system memory.\n"
     ]
    },
    {
     "name": "stdout",
     "output_type": "stream",
     "text": [
      "153/153 [==============================] - ETA: 0s - loss: 0.5696 - accuracy: 0.7839"
     ]
    },
    {
     "name": "stderr",
     "output_type": "stream",
     "text": [
      "2023-11-26 12:46:33.690234: W tensorflow/tsl/framework/cpu_allocator_impl.cc:83] Allocation of 116370000 exceeds 10% of free system memory.\n"
     ]
    },
    {
     "name": "stdout",
     "output_type": "stream",
     "text": [
      "153/153 [==============================] - 137s 819ms/step - loss: 0.5696 - accuracy: 0.7839 - val_loss: 2.6512 - val_accuracy: 0.1369\n",
      "Epoch 2/100\n",
      "153/153 [==============================] - 101s 663ms/step - loss: 0.3153 - accuracy: 0.8938 - val_loss: 5.1120 - val_accuracy: 0.1369\n",
      "Epoch 3/100\n",
      "153/153 [==============================] - 100s 655ms/step - loss: 0.2045 - accuracy: 0.9389 - val_loss: 10.3536 - val_accuracy: 0.1369\n",
      "Epoch 4/100\n",
      "153/153 [==============================] - ETA: 0s - loss: 0.1571 - accuracy: 0.9512\n",
      "Reached 95.0% accuracy so cancelling training!\n",
      "153/153 [==============================] - 100s 652ms/step - loss: 0.1571 - accuracy: 0.9512 - val_loss: 9.7457 - val_accuracy: 0.1369\n",
      "\n",
      "Your model reached the desired accuracy after 4 epochs\n"
     ]
    }
   ],
   "source": [
    "EPOCHS=100 # epochs = iterations\n",
    "BATCH_SIZE=16\n",
    "TARGET_ACC=0.95\n",
    "callbacks = myCallback(target_accuracy=TARGET_ACC)\n",
    "history = model.fit(X_train, y_train,\n",
    "                    validation_split=.15,\n",
    "                    callbacks=[callbacks],\n",
    "                    epochs=EPOCHS, \n",
    "                    batch_size=BATCH_SIZE,\n",
    "                    verbose=1)\n",
    "\n",
    "print(f\"\\nYour model reached the desired accuracy after {len(history.epoch)} epochs\")"
   ]
  },
  {
   "cell_type": "code",
   "execution_count": 10,
   "id": "36f0ae7c-7d4b-4dff-91b4-32c57263dcf0",
   "metadata": {},
   "outputs": [
    {
     "data": {
      "image/png": "[encoded data removed]",
      "text/plain": [
       "<Figure size 2000x1000 with 2 Axes>"
      ]
     },
     "metadata": {},
     "output_type": "display_data"
    },
    {
     "name": "stderr",
     "output_type": "stream",
     "text": [
      "2023-11-26 12:52:48.235938: W tensorflow/tsl/framework/cpu_allocator_impl.cc:83] Allocation of 774900000 exceeds 10% of free system memory.\n",
      "2023-11-26 12:52:50.085729: W tensorflow/tsl/framework/cpu_allocator_impl.cc:83] Allocation of 69120000 exceeds 10% of free system memory.\n",
      "2023-11-26 12:52:50.099706: W tensorflow/tsl/framework/cpu_allocator_impl.cc:83] Allocation of 69120000 exceeds 10% of free system memory.\n"
     ]
    },
    {
     "name": "stdout",
     "output_type": "stream",
     "text": [
      "90/90 [==============================] - 26s 277ms/step\n",
      "Accuracy for training data (R^2): 0.13763066202090593 \n",
      "\n",
      "Confusion matrix for training data:\n",
      " [[  0   0 826   0]\n",
      " [  0   0 822   0]\n",
      " [  0   0 395   0]\n",
      " [  0   0 827   0]] \n",
      "\n",
      "13/13 [==============================] - 3s 262ms/step\n",
      "Accuracy for testing data (R^2): 0.26649746192893403 \n",
      "\n",
      "Confusion matrix for testing data:\n",
      " [[  0   0 100   0]\n",
      " [  0   0 115   0]\n",
      " [  0   0 105   0]\n",
      " [  0   0  74   0]] \n",
      "\n"
     ]
    }
   ],
   "source": [
    "graph_accuracy_and_loss(history=history)\n",
    "model_accuracy_and_confusion_matrix(model, X_train, y_train, X_test, y_test)"
   ]
  },
  {
   "cell_type": "code",
   "execution_count": null,
   "id": "c951c7d5",
   "metadata": {},
   "outputs": [],
   "source": []
  }
 ],
 "metadata": {
  "kernelspec": {
   "display_name": "Python 3 (ipykernel)",
   "language": "python",
   "name": "python3"
  },
  "language_info": {
   "codemirror_mode": {
    "name": "ipython",
    "version": 3
   },
   "file_extension": ".py",
   "mimetype": "text/x-python",
   "name": "python",
   "nbconvert_exporter": "python",
   "pygments_lexer": "ipython3",
   "version": "3.9.2"
  }
 },
 "nbformat": 4,
 "nbformat_minor": 5
}
