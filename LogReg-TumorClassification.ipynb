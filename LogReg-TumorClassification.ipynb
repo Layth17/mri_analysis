{
 "cells": [
  {
   "cell_type": "markdown",
   "id": "5bfc93f8",
   "metadata": {},
   "source": [
    "# Multiclass Logistic Regression Classifier"
   ]
  },
  {
   "cell_type": "code",
   "execution_count": 30,
   "id": "1db23df9",
   "metadata": {},
   "outputs": [],
   "source": [
    "# Libraries\n",
    "import numpy as np\n",
    "import pandas as pd\n",
    "import cv2\n",
    "import os\n",
    "import matplotlib.pyplot as plt"
   ]
  },
  {
   "cell_type": "code",
   "execution_count": 31,
   "id": "a1c4e2c8",
   "metadata": {},
   "outputs": [],
   "source": [
    "# Get directories & labels\n",
    "train_dir = \"C:/Users/bodin/School/MATH 5680/Projec/tumor_images/Training\"\n",
    "test_dir = \"C:/Users/bodin/School/MATH 5680/Projec/tumor_images/Testing\"\n",
    "\n",
    "labels = [\"glioma_tumor\",\"meningioma_tumor\",\"no_tumor\",\"pituitary_tumor\"]"
   ]
  },
  {
   "cell_type": "code",
   "execution_count": 32,
   "id": "9ca5fc7c",
   "metadata": {},
   "outputs": [],
   "source": [
    "# Create list of data\n",
    "train_img_list = []\n",
    "test_img_list = []\n",
    "\n",
    "test_label_list = []\n",
    "train_label_list = []\n",
    "\n",
    "# Training dataset\n",
    "for label in labels:\n",
    "    for img_file in os.listdir(train_dir + '/' + label):\n",
    "        img = cv2.imread(train_dir + '/' + label + '/' + img_file)\n",
    "        img = cv2.resize(img, (200,200))\n",
    "        train_img_list.append(img)\n",
    "        train_label_list.append(label)\n",
    "\n",
    "# Testing dataset\n",
    "for label in labels:\n",
    "    for img_file in os.listdir(test_dir + '/' + label):\n",
    "        img = cv2.imread(test_dir + '/' + label + '/' + img_file)\n",
    "        img = cv2.resize(img, (200,200))\n",
    "        test_img_list.append(img)\n",
    "        test_label_list.append(label)"
   ]
  },
  {
   "cell_type": "code",
   "execution_count": 33,
   "id": "c9fcf3ae",
   "metadata": {},
   "outputs": [],
   "source": [
    "# Encode labels\n",
    "from sklearn.preprocessing import LabelEncoder\n",
    "label_encoder = LabelEncoder()\n",
    "\n",
    "train_label_list = label_encoder.fit_transform(train_label_list)\n",
    "test_label_list = label_encoder.fit_transform(test_label_list)\n",
    "\n",
    "# Convert images to int64 array\n",
    "train_img_list = np.array(train_img_list).astype(np.int64)\n",
    "test_img_list = np.array(test_img_list).astype(np.int64)"
   ]
  },
  {
   "cell_type": "code",
   "execution_count": 34,
   "id": "4ed73160",
   "metadata": {},
   "outputs": [
    {
     "data": {
      "text/plain": [
       "3    827\n",
       "0    826\n",
       "1    822\n",
       "2    395\n",
       "dtype: int64"
      ]
     },
     "execution_count": 34,
     "metadata": {},
     "output_type": "execute_result"
    }
   ],
   "source": [
    "# Value Counts for each type of tumor\n",
    "\"\"\"\n",
    "Pituitary = 3\n",
    "Glioma = 0\n",
    "Meningioma = 1\n",
    "None = 2\n",
    "\"\"\"\n",
    "pd.Series(train_label_list).value_counts()"
   ]
  },
  {
   "cell_type": "code",
   "execution_count": 35,
   "id": "1b2e70d3",
   "metadata": {},
   "outputs": [],
   "source": [
    "# Convert images from (200, 200, 3) to column vector (120000)\n",
    "X_train = train_img_list.reshape(len(train_img_list), -1)\n",
    "X_test = test_img_list.reshape(len(test_img_list), -1)\n",
    "Y_train = train_label_list\n",
    "Y_test = test_label_list"
   ]
  },
  {
   "cell_type": "code",
   "execution_count": 36,
   "id": "b638d9cc",
   "metadata": {},
   "outputs": [],
   "source": [
    "# Standardize values between 0-1\n",
    "X_train = X_train / 255\n",
    "X_test = X_test / 255"
   ]
  },
  {
   "cell_type": "code",
   "execution_count": 37,
   "id": "ea91b9d0",
   "metadata": {},
   "outputs": [
    {
     "name": "stdout",
     "output_type": "stream",
     "text": [
      "Fitting 5 folds for each of 24 candidates, totalling 120 fits\n",
      "[CV] END ............multi_class=ovr, penalty=l1, tol=0.0001; total time=   3.0s\n",
      "[CV] END ............multi_class=ovr, penalty=l1, tol=0.0001; total time=   0.9s\n",
      "[CV] END ............multi_class=ovr, penalty=l1, tol=0.0001; total time=   0.4s\n",
      "[CV] END ............multi_class=ovr, penalty=l1, tol=0.0001; total time=   0.4s\n",
      "[CV] END ............multi_class=ovr, penalty=l1, tol=0.0001; total time=   0.4s\n",
      "[CV] END .............multi_class=ovr, penalty=l1, tol=1e-06; total time=   0.4s\n",
      "[CV] END .............multi_class=ovr, penalty=l1, tol=1e-06; total time=   0.4s\n",
      "[CV] END .............multi_class=ovr, penalty=l1, tol=1e-06; total time=   0.4s\n",
      "[CV] END .............multi_class=ovr, penalty=l1, tol=1e-06; total time=   0.4s\n",
      "[CV] END .............multi_class=ovr, penalty=l1, tol=1e-06; total time=   0.4s\n",
      "[CV] END ..............multi_class=ovr, penalty=l1, tol=0.01; total time=   0.4s\n",
      "[CV] END ..............multi_class=ovr, penalty=l1, tol=0.01; total time=   0.4s\n",
      "[CV] END ..............multi_class=ovr, penalty=l1, tol=0.01; total time=   0.4s\n",
      "[CV] END ..............multi_class=ovr, penalty=l1, tol=0.01; total time=   0.4s\n",
      "[CV] END ..............multi_class=ovr, penalty=l1, tol=0.01; total time=   0.5s\n",
      "[CV] END ............multi_class=ovr, penalty=l2, tol=0.0001; total time= 1.2min\n",
      "[CV] END ............multi_class=ovr, penalty=l2, tol=0.0001; total time= 1.2min\n",
      "[CV] END ............multi_class=ovr, penalty=l2, tol=0.0001; total time= 1.2min\n",
      "[CV] END ............multi_class=ovr, penalty=l2, tol=0.0001; total time= 1.1min\n",
      "[CV] END ............multi_class=ovr, penalty=l2, tol=0.0001; total time= 1.1min\n",
      "[CV] END .............multi_class=ovr, penalty=l2, tol=1e-06; total time= 1.2min\n",
      "[CV] END .............multi_class=ovr, penalty=l2, tol=1e-06; total time= 1.2min\n",
      "[CV] END .............multi_class=ovr, penalty=l2, tol=1e-06; total time= 1.1min\n",
      "[CV] END .............multi_class=ovr, penalty=l2, tol=1e-06; total time= 1.1min\n",
      "[CV] END .............multi_class=ovr, penalty=l2, tol=1e-06; total time= 1.1min\n",
      "[CV] END ..............multi_class=ovr, penalty=l2, tol=0.01; total time= 1.1min\n",
      "[CV] END ..............multi_class=ovr, penalty=l2, tol=0.01; total time= 1.1min\n",
      "[CV] END ..............multi_class=ovr, penalty=l2, tol=0.01; total time= 1.1min\n",
      "[CV] END ..............multi_class=ovr, penalty=l2, tol=0.01; total time= 1.1min\n",
      "[CV] END ..............multi_class=ovr, penalty=l2, tol=0.01; total time= 1.1min\n",
      "[CV] END ....multi_class=ovr, penalty=elasticnet, tol=0.0001; total time=   0.4s\n",
      "[CV] END ....multi_class=ovr, penalty=elasticnet, tol=0.0001; total time=   0.4s\n",
      "[CV] END ....multi_class=ovr, penalty=elasticnet, tol=0.0001; total time=   0.3s\n",
      "[CV] END ....multi_class=ovr, penalty=elasticnet, tol=0.0001; total time=   0.3s\n",
      "[CV] END ....multi_class=ovr, penalty=elasticnet, tol=0.0001; total time=   0.4s\n",
      "[CV] END .....multi_class=ovr, penalty=elasticnet, tol=1e-06; total time=   0.4s\n",
      "[CV] END .....multi_class=ovr, penalty=elasticnet, tol=1e-06; total time=   0.4s\n",
      "[CV] END .....multi_class=ovr, penalty=elasticnet, tol=1e-06; total time=   0.3s\n",
      "[CV] END .....multi_class=ovr, penalty=elasticnet, tol=1e-06; total time=   0.3s\n",
      "[CV] END .....multi_class=ovr, penalty=elasticnet, tol=1e-06; total time=   0.3s\n",
      "[CV] END ......multi_class=ovr, penalty=elasticnet, tol=0.01; total time=   0.3s\n",
      "[CV] END ......multi_class=ovr, penalty=elasticnet, tol=0.01; total time=   0.3s\n",
      "[CV] END ......multi_class=ovr, penalty=elasticnet, tol=0.01; total time=   0.3s\n",
      "[CV] END ......multi_class=ovr, penalty=elasticnet, tol=0.01; total time=   0.3s\n",
      "[CV] END ......multi_class=ovr, penalty=elasticnet, tol=0.01; total time=   0.3s\n",
      "[CV] END ..........multi_class=ovr, penalty=None, tol=0.0001; total time=   0.3s\n",
      "[CV] END ..........multi_class=ovr, penalty=None, tol=0.0001; total time=   0.3s\n",
      "[CV] END ..........multi_class=ovr, penalty=None, tol=0.0001; total time=   0.3s\n",
      "[CV] END ..........multi_class=ovr, penalty=None, tol=0.0001; total time=   0.3s\n",
      "[CV] END ..........multi_class=ovr, penalty=None, tol=0.0001; total time=   0.3s\n",
      "[CV] END ...........multi_class=ovr, penalty=None, tol=1e-06; total time=   0.4s\n",
      "[CV] END ...........multi_class=ovr, penalty=None, tol=1e-06; total time=   0.4s\n",
      "[CV] END ...........multi_class=ovr, penalty=None, tol=1e-06; total time=   0.4s\n",
      "[CV] END ...........multi_class=ovr, penalty=None, tol=1e-06; total time=   0.3s\n",
      "[CV] END ...........multi_class=ovr, penalty=None, tol=1e-06; total time=   0.3s\n",
      "[CV] END ............multi_class=ovr, penalty=None, tol=0.01; total time=   0.3s\n",
      "[CV] END ............multi_class=ovr, penalty=None, tol=0.01; total time=   0.3s\n",
      "[CV] END ............multi_class=ovr, penalty=None, tol=0.01; total time=   0.3s\n",
      "[CV] END ............multi_class=ovr, penalty=None, tol=0.01; total time=   0.3s\n",
      "[CV] END ............multi_class=ovr, penalty=None, tol=0.01; total time=   0.3s\n",
      "[CV] END ....multi_class=multinomial, penalty=l1, tol=0.0001; total time=   0.3s\n",
      "[CV] END ....multi_class=multinomial, penalty=l1, tol=0.0001; total time=   0.3s\n",
      "[CV] END ....multi_class=multinomial, penalty=l1, tol=0.0001; total time=   0.3s\n",
      "[CV] END ....multi_class=multinomial, penalty=l1, tol=0.0001; total time=   0.3s\n",
      "[CV] END ....multi_class=multinomial, penalty=l1, tol=0.0001; total time=   0.3s\n",
      "[CV] END .....multi_class=multinomial, penalty=l1, tol=1e-06; total time=   0.3s\n",
      "[CV] END .....multi_class=multinomial, penalty=l1, tol=1e-06; total time=   0.3s\n",
      "[CV] END .....multi_class=multinomial, penalty=l1, tol=1e-06; total time=   0.3s\n",
      "[CV] END .....multi_class=multinomial, penalty=l1, tol=1e-06; total time=   0.3s\n",
      "[CV] END .....multi_class=multinomial, penalty=l1, tol=1e-06; total time=   0.3s\n",
      "[CV] END ......multi_class=multinomial, penalty=l1, tol=0.01; total time=   0.4s\n",
      "[CV] END ......multi_class=multinomial, penalty=l1, tol=0.01; total time=   0.3s\n",
      "[CV] END ......multi_class=multinomial, penalty=l1, tol=0.01; total time=   0.3s\n",
      "[CV] END ......multi_class=multinomial, penalty=l1, tol=0.01; total time=   0.3s\n",
      "[CV] END ......multi_class=multinomial, penalty=l1, tol=0.01; total time=   0.3s\n",
      "[CV] END ....multi_class=multinomial, penalty=l2, tol=0.0001; total time=  25.8s\n",
      "[CV] END ....multi_class=multinomial, penalty=l2, tol=0.0001; total time=  25.0s\n",
      "[CV] END ....multi_class=multinomial, penalty=l2, tol=0.0001; total time=  25.9s\n",
      "[CV] END ....multi_class=multinomial, penalty=l2, tol=0.0001; total time=  25.4s\n",
      "[CV] END ....multi_class=multinomial, penalty=l2, tol=0.0001; total time=  25.7s\n",
      "[CV] END .....multi_class=multinomial, penalty=l2, tol=1e-06; total time=  25.1s\n",
      "[CV] END .....multi_class=multinomial, penalty=l2, tol=1e-06; total time=  24.4s\n",
      "[CV] END .....multi_class=multinomial, penalty=l2, tol=1e-06; total time=  25.1s\n",
      "[CV] END .....multi_class=multinomial, penalty=l2, tol=1e-06; total time=  24.5s\n",
      "[CV] END .....multi_class=multinomial, penalty=l2, tol=1e-06; total time=  25.0s\n",
      "[CV] END ......multi_class=multinomial, penalty=l2, tol=0.01; total time=  25.0s\n",
      "[CV] END ......multi_class=multinomial, penalty=l2, tol=0.01; total time=  24.3s\n",
      "[CV] END ......multi_class=multinomial, penalty=l2, tol=0.01; total time=  25.2s\n",
      "[CV] END ......multi_class=multinomial, penalty=l2, tol=0.01; total time=  24.5s\n",
      "[CV] END ......multi_class=multinomial, penalty=l2, tol=0.01; total time=  24.9s\n",
      "[CV] END multi_class=multinomial, penalty=elasticnet, tol=0.0001; total time=   0.4s\n",
      "[CV] END multi_class=multinomial, penalty=elasticnet, tol=0.0001; total time=   0.4s\n",
      "[CV] END multi_class=multinomial, penalty=elasticnet, tol=0.0001; total time=   0.3s\n",
      "[CV] END multi_class=multinomial, penalty=elasticnet, tol=0.0001; total time=   0.3s\n",
      "[CV] END multi_class=multinomial, penalty=elasticnet, tol=0.0001; total time=   0.3s\n",
      "[CV] END multi_class=multinomial, penalty=elasticnet, tol=1e-06; total time=   0.3s\n",
      "[CV] END multi_class=multinomial, penalty=elasticnet, tol=1e-06; total time=   0.3s\n",
      "[CV] END multi_class=multinomial, penalty=elasticnet, tol=1e-06; total time=   0.3s\n",
      "[CV] END multi_class=multinomial, penalty=elasticnet, tol=1e-06; total time=   0.3s\n",
      "[CV] END multi_class=multinomial, penalty=elasticnet, tol=1e-06; total time=   0.3s\n"
     ]
    },
    {
     "name": "stdout",
     "output_type": "stream",
     "text": [
      "[CV] END multi_class=multinomial, penalty=elasticnet, tol=0.01; total time=   0.3s\n",
      "[CV] END multi_class=multinomial, penalty=elasticnet, tol=0.01; total time=   0.3s\n",
      "[CV] END multi_class=multinomial, penalty=elasticnet, tol=0.01; total time=   0.3s\n",
      "[CV] END multi_class=multinomial, penalty=elasticnet, tol=0.01; total time=   0.3s\n",
      "[CV] END multi_class=multinomial, penalty=elasticnet, tol=0.01; total time=   0.3s\n",
      "[CV] END ..multi_class=multinomial, penalty=None, tol=0.0001; total time=   0.3s\n",
      "[CV] END ..multi_class=multinomial, penalty=None, tol=0.0001; total time=   0.3s\n",
      "[CV] END ..multi_class=multinomial, penalty=None, tol=0.0001; total time=   0.3s\n",
      "[CV] END ..multi_class=multinomial, penalty=None, tol=0.0001; total time=   0.3s\n",
      "[CV] END ..multi_class=multinomial, penalty=None, tol=0.0001; total time=   0.3s\n",
      "[CV] END ...multi_class=multinomial, penalty=None, tol=1e-06; total time=   0.3s\n",
      "[CV] END ...multi_class=multinomial, penalty=None, tol=1e-06; total time=   0.3s\n",
      "[CV] END ...multi_class=multinomial, penalty=None, tol=1e-06; total time=   0.3s\n",
      "[CV] END ...multi_class=multinomial, penalty=None, tol=1e-06; total time=   0.3s\n",
      "[CV] END ...multi_class=multinomial, penalty=None, tol=1e-06; total time=   0.3s\n",
      "[CV] END ....multi_class=multinomial, penalty=None, tol=0.01; total time=   0.3s\n",
      "[CV] END ....multi_class=multinomial, penalty=None, tol=0.01; total time=   0.3s\n",
      "[CV] END ....multi_class=multinomial, penalty=None, tol=0.01; total time=   0.3s\n",
      "[CV] END ....multi_class=multinomial, penalty=None, tol=0.01; total time=   0.4s\n",
      "[CV] END ....multi_class=multinomial, penalty=None, tol=0.01; total time=   0.4s\n"
     ]
    },
    {
     "name": "stderr",
     "output_type": "stream",
     "text": [
      "C:\\Users\\bodin\\anaconda3\\lib\\site-packages\\sklearn\\model_selection\\_validation.py:378: FitFailedWarning: \n",
      "90 fits failed out of a total of 120.\n",
      "The score on these train-test partitions for these parameters will be set to nan.\n",
      "If these failures are not expected, you can try to debug them by setting error_score='raise'.\n",
      "\n",
      "Below are more details about the failures:\n",
      "--------------------------------------------------------------------------------\n",
      "30 fits failed with the following error:\n",
      "Traceback (most recent call last):\n",
      "  File \"C:\\Users\\bodin\\anaconda3\\lib\\site-packages\\sklearn\\model_selection\\_validation.py\", line 686, in _fit_and_score\n",
      "    estimator.fit(X_train, y_train, **fit_params)\n",
      "  File \"C:\\Users\\bodin\\anaconda3\\lib\\site-packages\\sklearn\\linear_model\\_logistic.py\", line 1162, in fit\n",
      "    solver = _check_solver(self.solver, self.penalty, self.dual)\n",
      "  File \"C:\\Users\\bodin\\anaconda3\\lib\\site-packages\\sklearn\\linear_model\\_logistic.py\", line 54, in _check_solver\n",
      "    raise ValueError(\n",
      "ValueError: Solver lbfgs supports only 'l2' or 'none' penalties, got l1 penalty.\n",
      "\n",
      "--------------------------------------------------------------------------------\n",
      "30 fits failed with the following error:\n",
      "Traceback (most recent call last):\n",
      "  File \"C:\\Users\\bodin\\anaconda3\\lib\\site-packages\\sklearn\\model_selection\\_validation.py\", line 686, in _fit_and_score\n",
      "    estimator.fit(X_train, y_train, **fit_params)\n",
      "  File \"C:\\Users\\bodin\\anaconda3\\lib\\site-packages\\sklearn\\linear_model\\_logistic.py\", line 1162, in fit\n",
      "    solver = _check_solver(self.solver, self.penalty, self.dual)\n",
      "  File \"C:\\Users\\bodin\\anaconda3\\lib\\site-packages\\sklearn\\linear_model\\_logistic.py\", line 54, in _check_solver\n",
      "    raise ValueError(\n",
      "ValueError: Solver lbfgs supports only 'l2' or 'none' penalties, got elasticnet penalty.\n",
      "\n",
      "--------------------------------------------------------------------------------\n",
      "30 fits failed with the following error:\n",
      "Traceback (most recent call last):\n",
      "  File \"C:\\Users\\bodin\\anaconda3\\lib\\site-packages\\sklearn\\model_selection\\_validation.py\", line 686, in _fit_and_score\n",
      "    estimator.fit(X_train, y_train, **fit_params)\n",
      "  File \"C:\\Users\\bodin\\anaconda3\\lib\\site-packages\\sklearn\\linear_model\\_logistic.py\", line 1160, in fit\n",
      "    self._validate_params()\n",
      "  File \"C:\\Users\\bodin\\anaconda3\\lib\\site-packages\\sklearn\\base.py\", line 581, in _validate_params\n",
      "    validate_parameter_constraints(\n",
      "  File \"C:\\Users\\bodin\\anaconda3\\lib\\site-packages\\sklearn\\utils\\_param_validation.py\", line 97, in validate_parameter_constraints\n",
      "    raise InvalidParameterError(\n",
      "sklearn.utils._param_validation.InvalidParameterError: The 'penalty' parameter of LogisticRegression must be a str among {'l1', 'none' (deprecated), 'elasticnet', 'l2'} or None. Got 'None' instead.\n",
      "\n",
      "  warnings.warn(some_fits_failed_message, FitFailedWarning)\n",
      "C:\\Users\\bodin\\anaconda3\\lib\\site-packages\\sklearn\\model_selection\\_search.py:952: UserWarning: One or more of the test scores are non-finite: [       nan        nan        nan 0.6087108  0.6087108  0.6087108\n",
      "        nan        nan        nan        nan        nan        nan\n",
      "        nan        nan        nan 0.59512195 0.59512195 0.59512195\n",
      "        nan        nan        nan        nan        nan        nan]\n",
      "  warnings.warn(\n"
     ]
    },
    {
     "name": "stdout",
     "output_type": "stream",
     "text": [
      "Best Parameters:  {'multi_class': 'ovr', 'penalty': 'l2', 'tol': 0.0001}\n",
      "Best Accuracy Score: 0.6087\n"
     ]
    }
   ],
   "source": [
    "# Find best model using cross validation\n",
    "from sklearn.linear_model import LogisticRegression\n",
    "from sklearn.model_selection import GridSearchCV\n",
    "import warnings\n",
    "from sklearn.exceptions import ConvergenceWarning\n",
    "\n",
    "# Ignore convergence warnings\n",
    "warnings.filterwarnings(\"ignore\", category=ConvergenceWarning)\n",
    "\n",
    "\"\"\"\n",
    "Log. Reg. parameters to alter:\n",
    "\n",
    "penalty: Specify the norm of the penalty.\n",
    "{‘l1’, ‘l2’, ‘elasticnet’, None}, default=’l2’\n",
    "\n",
    "tol: Tolerance for stopping criteria\n",
    "float, default=1e-4\n",
    "\n",
    "C: Inverse of regularization strength\n",
    "float, default=1.0\n",
    "\n",
    "multi_class: {‘auto’, ‘ovr’, ‘multinomial’}, default=’auto’\n",
    "\"\"\"\n",
    "# Paramters to test\n",
    "param_grid = {'penalty': ['l1', 'l2', 'elasticnet', 'None'], \n",
    "              'tol': [1e-4, 1e-6, 1e-2], \n",
    "              'multi_class': ['ovr', 'multinomial']}\n",
    "\n",
    "# Build model and search for best params\n",
    "lr = LogisticRegression()\n",
    "grid_search = GridSearchCV(lr, param_grid, cv=5, scoring='accuracy', verbose=2)\n",
    "grid_search.fit(X_train, Y_train)\n",
    "\n",
    "# Print the best parameters and corresponding accuracy score\n",
    "print(\"Best Parameters: \", grid_search.best_params_)\n",
    "print(\"Best Accuracy Score: {:.4f}\".format(grid_search.best_score_))"
   ]
  },
  {
   "cell_type": "code",
   "execution_count": 43,
   "id": "66ad4500",
   "metadata": {},
   "outputs": [
    {
     "data": {
      "text/html": [
       "<style>#sk-container-id-1 {color: black;background-color: white;}#sk-container-id-1 pre{padding: 0;}#sk-container-id-1 div.sk-toggleable {background-color: white;}#sk-container-id-1 label.sk-toggleable__label {cursor: pointer;display: block;width: 100%;margin-bottom: 0;padding: 0.3em;box-sizing: border-box;text-align: center;}#sk-container-id-1 label.sk-toggleable__label-arrow:before {content: \"▸\";float: left;margin-right: 0.25em;color: #696969;}#sk-container-id-1 label.sk-toggleable__label-arrow:hover:before {color: black;}#sk-container-id-1 div.sk-estimator:hover label.sk-toggleable__label-arrow:before {color: black;}#sk-container-id-1 div.sk-toggleable__content {max-height: 0;max-width: 0;overflow: hidden;text-align: left;background-color: #f0f8ff;}#sk-container-id-1 div.sk-toggleable__content pre {margin: 0.2em;color: black;border-radius: 0.25em;background-color: #f0f8ff;}#sk-container-id-1 input.sk-toggleable__control:checked~div.sk-toggleable__content {max-height: 200px;max-width: 100%;overflow: auto;}#sk-container-id-1 input.sk-toggleable__control:checked~label.sk-toggleable__label-arrow:before {content: \"▾\";}#sk-container-id-1 div.sk-estimator input.sk-toggleable__control:checked~label.sk-toggleable__label {background-color: #d4ebff;}#sk-container-id-1 div.sk-label input.sk-toggleable__control:checked~label.sk-toggleable__label {background-color: #d4ebff;}#sk-container-id-1 input.sk-hidden--visually {border: 0;clip: rect(1px 1px 1px 1px);clip: rect(1px, 1px, 1px, 1px);height: 1px;margin: -1px;overflow: hidden;padding: 0;position: absolute;width: 1px;}#sk-container-id-1 div.sk-estimator {font-family: monospace;background-color: #f0f8ff;border: 1px dotted black;border-radius: 0.25em;box-sizing: border-box;margin-bottom: 0.5em;}#sk-container-id-1 div.sk-estimator:hover {background-color: #d4ebff;}#sk-container-id-1 div.sk-parallel-item::after {content: \"\";width: 100%;border-bottom: 1px solid gray;flex-grow: 1;}#sk-container-id-1 div.sk-label:hover label.sk-toggleable__label {background-color: #d4ebff;}#sk-container-id-1 div.sk-serial::before {content: \"\";position: absolute;border-left: 1px solid gray;box-sizing: border-box;top: 0;bottom: 0;left: 50%;z-index: 0;}#sk-container-id-1 div.sk-serial {display: flex;flex-direction: column;align-items: center;background-color: white;padding-right: 0.2em;padding-left: 0.2em;position: relative;}#sk-container-id-1 div.sk-item {position: relative;z-index: 1;}#sk-container-id-1 div.sk-parallel {display: flex;align-items: stretch;justify-content: center;background-color: white;position: relative;}#sk-container-id-1 div.sk-item::before, #sk-container-id-1 div.sk-parallel-item::before {content: \"\";position: absolute;border-left: 1px solid gray;box-sizing: border-box;top: 0;bottom: 0;left: 50%;z-index: -1;}#sk-container-id-1 div.sk-parallel-item {display: flex;flex-direction: column;z-index: 1;position: relative;background-color: white;}#sk-container-id-1 div.sk-parallel-item:first-child::after {align-self: flex-end;width: 50%;}#sk-container-id-1 div.sk-parallel-item:last-child::after {align-self: flex-start;width: 50%;}#sk-container-id-1 div.sk-parallel-item:only-child::after {width: 0;}#sk-container-id-1 div.sk-dashed-wrapped {border: 1px dashed gray;margin: 0 0.4em 0.5em 0.4em;box-sizing: border-box;padding-bottom: 0.4em;background-color: white;}#sk-container-id-1 div.sk-label label {font-family: monospace;font-weight: bold;display: inline-block;line-height: 1.2em;}#sk-container-id-1 div.sk-label-container {text-align: center;}#sk-container-id-1 div.sk-container {/* jupyter's `normalize.less` sets `[hidden] { display: none; }` but bootstrap.min.css set `[hidden] { display: none !important; }` so we also need the `!important` here to be able to override the default hidden behavior on the sphinx rendered scikit-learn.org. See: https://github.com/scikit-learn/scikit-learn/issues/21755 */display: inline-block !important;position: relative;}#sk-container-id-1 div.sk-text-repr-fallback {display: none;}</style><div id=\"sk-container-id-1\" class=\"sk-top-container\"><div class=\"sk-text-repr-fallback\"><pre>LogisticRegression(multi_class=&#x27;ovr&#x27;)</pre><b>In a Jupyter environment, please rerun this cell to show the HTML representation or trust the notebook. <br />On GitHub, the HTML representation is unable to render, please try loading this page with nbviewer.org.</b></div><div class=\"sk-container\" hidden><div class=\"sk-item\"><div class=\"sk-estimator sk-toggleable\"><input class=\"sk-toggleable__control sk-hidden--visually\" id=\"sk-estimator-id-1\" type=\"checkbox\" checked><label for=\"sk-estimator-id-1\" class=\"sk-toggleable__label sk-toggleable__label-arrow\">LogisticRegression</label><div class=\"sk-toggleable__content\"><pre>LogisticRegression(multi_class=&#x27;ovr&#x27;)</pre></div></div></div></div></div>"
      ],
      "text/plain": [
       "LogisticRegression(multi_class='ovr')"
      ]
     },
     "execution_count": 43,
     "metadata": {},
     "output_type": "execute_result"
    }
   ],
   "source": [
    "lr = LogisticRegression(multi_class = 'ovr', \n",
    "                        penalty = 'l2', \n",
    "                        tol = 0.0001, \n",
    "                        max_iter = 100)\n",
    "lr.fit(X_train, Y_train)"
   ]
  },
  {
   "cell_type": "code",
   "execution_count": 46,
   "id": "5e83c591",
   "metadata": {},
   "outputs": [
    {
     "name": "stdout",
     "output_type": "stream",
     "text": [
      "Accuracy: 0.7385786802030457\n",
      "\n",
      "Confusion Matrix: \n",
      " [[ 26  21  44   9]\n",
      " [  1 111   3   0]\n",
      " [  0   0 105   0]\n",
      " [  0  14  11  49]] \n",
      "\n",
      "              precision    recall  f1-score   support\n",
      "\n",
      "           0       0.96      0.26      0.41       100\n",
      "           1       0.76      0.97      0.85       115\n",
      "           2       0.64      1.00      0.78       105\n",
      "           3       0.84      0.66      0.74        74\n",
      "\n",
      "    accuracy                           0.74       394\n",
      "   macro avg       0.80      0.72      0.70       394\n",
      "weighted avg       0.80      0.74      0.70       394\n",
      "\n"
     ]
    }
   ],
   "source": [
    "# Evaluation\n",
    "from sklearn.metrics import (accuracy_score,\n",
    "                             classification_report,\n",
    "                             confusion_matrix)\n",
    "\n",
    "y_pred = lr.predict(X_test)\n",
    "accuracy = accuracy_score(Y_test, y_pred)\n",
    "print(f'Accuracy: {accuracy}\\n')\n",
    "print(f\"Confusion Matrix: \\n\", confusion_matrix(Y_test, y_pred), \"\\n\")\n",
    "print(classification_report(Y_test, y_pred))"
   ]
  }
 ],
 "metadata": {
  "kernelspec": {
   "display_name": "Python 3 (ipykernel)",
   "language": "python",
   "name": "python3"
  },
  "language_info": {
   "codemirror_mode": {
    "name": "ipython",
    "version": 3
   },
   "file_extension": ".py",
   "mimetype": "text/x-python",
   "name": "python",
   "nbconvert_exporter": "python",
   "pygments_lexer": "ipython3",
   "version": "3.10.9"
  }
 },
 "nbformat": 4,
 "nbformat_minor": 5
}
