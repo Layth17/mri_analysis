{
 "cells": [
  {
   "cell_type": "markdown",
   "id": "2f27a45a",
   "metadata": {},
   "source": [
    "# Multiclass Logistic Regression Classifier"
   ]
  },
  {
   "cell_type": "code",
   "execution_count": 179,
   "id": "1db23df9",
   "metadata": {},
   "outputs": [],
   "source": [
    "# Libraries\n",
    "import numpy as np\n",
    "import pandas as pd\n",
    "import cv2\n",
    "import os\n",
    "import matplotlib.pyplot as plt"
   ]
  },
  {
   "cell_type": "code",
   "execution_count": 180,
   "id": "a1c4e2c8",
   "metadata": {},
   "outputs": [],
   "source": [
    "# Get directories & labels\n",
    "train_dir = \"C:/Users/bodin/School/MATH 5680/Projec/tumor_images/Training\"\n",
    "test_dir = \"C:/Users/bodin/School/MATH 5680/Projec/tumor_images/Testing\"\n",
    "\n",
    "labels = [\"glioma_tumor\",\"meningioma_tumor\",\"no_tumor\",\"pituitary_tumor\"]"
   ]
  },
  {
   "cell_type": "code",
   "execution_count": 181,
   "id": "d0a32957",
   "metadata": {},
   "outputs": [],
   "source": [
    "# Create list of data\n",
    "train_img_list = []\n",
    "test_img_list = []\n",
    "\n",
    "test_label_list = []\n",
    "train_label_list = []\n",
    "\n",
    "# Training dataset\n",
    "for label in labels:\n",
    "    for img_file in os.listdir(train_dir + '/' + label):\n",
    "        img = cv2.imread(train_dir + '/' + label + '/' + img_file)\n",
    "        img = cv2.resize(img, (200,200))\n",
    "        train_img_list.append(img)\n",
    "        train_label_list.append(label)\n",
    "\n",
    "# Testing dataset\n",
    "for label in labels:\n",
    "    for img_file in os.listdir(test_dir + '/' + label):\n",
    "        img = cv2.imread(test_dir + '/' + label + '/' + img_file)\n",
    "        img = cv2.resize(img, (200,200))\n",
    "        test_img_list.append(img)\n",
    "        test_label_list.append(label)"
   ]
  },
  {
   "cell_type": "code",
   "execution_count": 182,
   "id": "4587abe6",
   "metadata": {},
   "outputs": [],
   "source": [
    "# Encode labels\n",
    "from sklearn.preprocessing import LabelEncoder\n",
    "label_encoder = LabelEncoder()\n",
    "\n",
    "train_label_list = label_encoder.fit_transform(train_label_list)\n",
    "test_label_list = label_encoder.fit_transform(test_label_list)\n",
    "\n",
    "# Convert images to int64 array\n",
    "train_img_list = np.array(train_img_list).astype(np.int64)\n",
    "test_img_list = np.array(test_img_list).astype(np.int64)"
   ]
  },
  {
   "cell_type": "code",
   "execution_count": 183,
   "id": "30177d41",
   "metadata": {},
   "outputs": [
    {
     "data": {
      "text/plain": [
       "3    827\n",
       "0    826\n",
       "1    822\n",
       "2    395\n",
       "dtype: int64"
      ]
     },
     "execution_count": 183,
     "metadata": {},
     "output_type": "execute_result"
    }
   ],
   "source": [
    "# Value Counts for each type of tumor\n",
    "## Pituitary = 3\n",
    "## Glioma = 0\n",
    "## Meningioma = 1\n",
    "## None = 2\n",
    "pd.Series(train_label_list).value_counts()"
   ]
  },
  {
   "cell_type": "code",
   "execution_count": 184,
   "id": "cd98f336",
   "metadata": {},
   "outputs": [],
   "source": [
    "# Convert images from (200, 200, 3) to column vector (120000)\n",
    "X_train = train_img_list.reshape(len(train_img_list), -1)\n",
    "X_test = test_img_list.reshape(len(test_img_list), -1)\n",
    "Y_train = train_label_list\n",
    "Y_test = test_label_list"
   ]
  },
  {
   "cell_type": "code",
   "execution_count": 185,
   "id": "82e0dbba",
   "metadata": {},
   "outputs": [],
   "source": [
    "# Standardize values between 0-1\n",
    "X_train = X_train / 255\n",
    "X_test = X_test / 255"
   ]
  },
  {
   "cell_type": "code",
   "execution_count": 186,
   "id": "9da22452",
   "metadata": {},
   "outputs": [],
   "source": [
    "### Not necessary in current state, may delete ###\n",
    "\n",
    "#from sklearn.decomposition import PCA\n",
    "#pca = PCA(.98)\n",
    "\n",
    "#pca_train = pca.fit_transform(X_train)\n",
    "#pca_test = pca.transform(X_test)\n",
    "\n",
    "#pca_train = X_train\n",
    "#pca_test = X_test"
   ]
  },
  {
   "cell_type": "code",
   "execution_count": 187,
   "id": "9a4e6e6d",
   "metadata": {},
   "outputs": [
    {
     "name": "stderr",
     "output_type": "stream",
     "text": [
      "C:\\Users\\bodin\\anaconda3\\lib\\site-packages\\sklearn\\linear_model\\_logistic.py:458: ConvergenceWarning: lbfgs failed to converge (status=1):\n",
      "STOP: TOTAL NO. of ITERATIONS REACHED LIMIT.\n",
      "\n",
      "Increase the number of iterations (max_iter) or scale the data as shown in:\n",
      "    https://scikit-learn.org/stable/modules/preprocessing.html\n",
      "Please also refer to the documentation for alternative solver options:\n",
      "    https://scikit-learn.org/stable/modules/linear_model.html#logistic-regression\n",
      "  n_iter_i = _check_optimize_result(\n"
     ]
    }
   ],
   "source": [
    "from sklearn.linear_model import LogisticRegression\n",
    "lr = LogisticRegression(C=1, max_iter=500)\n",
    "lr.fit(pca_train, Y_train);"
   ]
  },
  {
   "cell_type": "code",
   "execution_count": 188,
   "id": "07e017af",
   "metadata": {},
   "outputs": [
    {
     "name": "stdout",
     "output_type": "stream",
     "text": [
      "Training score: 1.0\n",
      "Testing score: 0.7360406091370558\n"
     ]
    }
   ],
   "source": [
    "print(f\"Training score: {lr.score(pca_train, Y_train)}\")\n",
    "print(f\"Testing score: {lr.score(pca_test, Y_test)}\")"
   ]
  },
  {
   "cell_type": "code",
   "execution_count": null,
   "id": "e2eb4163",
   "metadata": {},
   "outputs": [],
   "source": []
  }
 ],
 "metadata": {
  "kernelspec": {
   "display_name": "Python 3 (ipykernel)",
   "language": "python",
   "name": "python3"
  },
  "language_info": {
   "codemirror_mode": {
    "name": "ipython",
    "version": 3
   },
   "file_extension": ".py",
   "mimetype": "text/x-python",
   "name": "python",
   "nbconvert_exporter": "python",
   "pygments_lexer": "ipython3",
   "version": "3.10.9"
  }
 },
 "nbformat": 4,
 "nbformat_minor": 5
}
