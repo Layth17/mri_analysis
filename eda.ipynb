{
 "cells": [
  {
   "cell_type": "code",
   "execution_count": 4,
   "id": "17892a99-2990-4605-a16d-6ff74fbd6d92",
   "metadata": {},
   "outputs": [],
   "source": [
    "from keras.utils import image_dataset_from_directory\n",
    "import numpy as np\n",
    "import matplotlib.pyplot as plt"
   ]
  },
  {
   "cell_type": "code",
   "execution_count": 21,
   "id": "600bb255-0d9a-41f5-a6b7-e726cab13c71",
   "metadata": {},
   "outputs": [],
   "source": [
    "# Specify the path to your image dataset\n",
    "dataset_training_path = \"/home/layth/git/mri_analysis/archive/Training/\"\n",
    "dataset_testing_path = \"/home/layth/git/mri_analysis/archive/Testing/\"\n",
    "\n",
    "dataset_training_path = \"/Users/studentuser/WORKING_BASE/mri_analysis/archive/Training\"\n",
    "dataset_testing_path = \"/Users/studentuser/WORKING_BASE/mri_analysis/archive/Testing\"\n",
    "\n",
    "RESIZE = 150\n",
    "FLAT = RESIZE * RESIZE * 3\n",
    "classes = {0: 'glioma_tumor', 1: 'meningioma_tumor', 2: 'no_tumor', 3: 'pitutary_tumor'}"
   ]
  },
  {
   "cell_type": "code",
   "execution_count": 12,
   "id": "fc4637c7-22bb-40e5-b367-1265a118a03f",
   "metadata": {},
   "outputs": [
    {
     "name": "stdout",
     "output_type": "stream",
     "text": [
      "Found 2870 files belonging to 4 classes.\n",
      "Found 394 files belonging to 4 classes.\n",
      "\n",
      "Flattening after resize: 150 * 150 * 3 = 67500\n",
      "Shape of X_train: (2870, 150, 150, 3)\n",
      "Shape of X_train_flat: (2870, 22500, 3)\n",
      "Shape of y_train: (2870,)\n",
      "Shape of X_test: (394, 150, 150, 3)\n",
      "Shape of X_test_flat: (394, 22500, 3)\n",
      "Shape of y_val: (394,)\n"
     ]
    }
   ],
   "source": [
    "# image_size: resizes the images\n",
    "# batch_size: how many images at a time\n",
    "# subset: allows me to return a tuple (train_data, val_data)\n",
    "train_data = image_dataset_from_directory(directory=dataset_training_path,\n",
    "                                          image_size=(RESIZE, RESIZE),\n",
    "                                          batch_size=32,\n",
    "                                          color_mode='rgb',\n",
    "                                          seed=42)\n",
    "\n",
    "testing_data = image_dataset_from_directory(directory=dataset_testing_path,\n",
    "                                          image_size=(RESIZE, RESIZE),\n",
    "                                          batch_size=32,\n",
    "                                          color_mode='rgb',\n",
    "                                          seed=42)\n",
    "\n",
    "\n",
    "X_train = []\n",
    "y_train = []\n",
    "X_test = []\n",
    "y_test = []\n",
    "\n",
    "# train_data yields batches. I am 'melting' \n",
    "# all batches together in one big array\n",
    "for images, labels in train_data:\n",
    "  X_train.extend(images.numpy())\n",
    "  y_train.extend(labels.numpy())\n",
    "  \n",
    "for images, labels in testing_data:\n",
    "  X_test.extend(images.numpy())\n",
    "  y_test.extend(labels.numpy())\n",
    "\n",
    "X_train = np.array(X_train) # convert X_train to numpy array\n",
    "X_train = np.divide(X_train, 255) # rescale pixels\n",
    "X_train_flat = X_train.reshape(np.shape(X_train)[0], -1, np.shape(X_train)[-1]) # flatten\n",
    "y_train = np.array(y_train)\n",
    "\n",
    "X_test = np.array(X_test) # convert X_val to numpy array\n",
    "X_test = np.divide(X_test, 255) # rescale pixels\n",
    "X_test_flat = X_test.reshape(np.shape(X_test)[0], -1, np.shape(X_test)[-1]) # flatten\n",
    "y_test = np.array(y_test)\n",
    "\n",
    "print()\n",
    "print(f\"Flattening after resize: {RESIZE} * {RESIZE} * 3 = {FLAT}\")\n",
    "print(f\"Shape of X_train: {np.shape(X_train)}\")\n",
    "print(f\"Shape of X_train_flat: {np.shape(X_train_flat)}\")\n",
    "print(f\"Shape of y_train: {np.shape(y_train)}\")\n",
    "print(f\"Shape of X_test: {np.shape(X_test)}\")\n",
    "print(f\"Shape of X_test_flat: {np.shape(X_test_flat)}\")\n",
    "print(f\"Shape of y_val: {np.shape(y_test)}\")"
   ]
  },
  {
   "cell_type": "code",
   "execution_count": 44,
   "id": "8884a9ff-5dfd-41a1-a42b-aa71d91bae34",
   "metadata": {},
   "outputs": [],
   "source": [
    "tr_unique_classes, tr_counts = np.unique(y_train, return_counts=True)\n",
    "te_unique_classes, te_counts = np.unique(y_test, return_counts=True)"
   ]
  },
  {
   "cell_type": "code",
   "execution_count": 55,
   "id": "127c293d-9176-4813-b70b-3e4f3e9e5f53",
   "metadata": {},
   "outputs": [
    {
     "name": "stdout",
     "output_type": "stream",
     "text": [
      "    glioma_tumor: 826 images\n",
      "meningioma_tumor: 822 images\n",
      "        no_tumor: 395 images\n",
      "  pitutary_tumor: 827 images\n",
      "           Total: 2870 images\n",
      "---------------------------------\n",
      "    glioma_tumor: 100 images\n",
      "meningioma_tumor: 115 images\n",
      "        no_tumor: 105 images\n",
      "  pitutary_tumor: 74 images\n",
      "           Total: 394 images\n"
     ]
    }
   ],
   "source": [
    "for c in tr_unique_classes:\n",
    "    print(f\"{classes[c]:>16}: {tr_counts[c]} images\")\n",
    "print(f\"           Total: {np.sum(tr_counts)} images\")\n",
    "print(\"---------------------------------\")\n",
    "for c in te_unique_classes:\n",
    "    print(f\"{classes[c]:>16}: {te_counts[c]} images\")\n",
    "print(f\"           Total: {np.sum(te_counts)} images\")"
   ]
  },
  {
   "cell_type": "code",
   "execution_count": 65,
   "id": "819b4ebc-2aa4-4d9c-a2cb-0892280cf8b6",
   "metadata": {},
   "outputs": [
    {
     "data": {
      "image/png": "[encoded data removed]",
      "text/plain": [
       "<Figure size 1000x500 with 1 Axes>"
      ]
     },
     "metadata": {},
     "output_type": "display_data"
    }
   ],
   "source": [
    "fig = plt.figure(figsize = (10, 5))\n",
    "\n",
    "# creating the bar plot\n",
    "plt.bar(classes.values(), tr_counts, color='maroon', width=.5, label=\"training\") # train data\n",
    "plt.bar(classes.values(), te_counts, color='teal', width=.5, label=\"testing\") # test data\n",
    "\n",
    "plt.xlabel(\"<-- labels -->\")\n",
    "plt.ylabel(\"<-- image count -->\")\n",
    "plt.title(\"image count per label\")\n",
    "\n",
    "plt.legend()\n",
    "plt.show()"
   ]
  },
  {
   "cell_type": "code",
   "execution_count": null,
   "id": "533162e9-8791-48a8-829e-63f61d369860",
   "metadata": {},
   "outputs": [],
   "source": []
  }
 ],
 "metadata": {
  "kernelspec": {
   "display_name": "Python 3 (ipykernel)",
   "language": "python",
   "name": "python3"
  },
  "language_info": {
   "codemirror_mode": {
    "name": "ipython",
    "version": 3
   },
   "file_extension": ".py",
   "mimetype": "text/x-python",
   "name": "python",
   "nbconvert_exporter": "python",
   "pygments_lexer": "ipython3",
   "version": "3.10.10"
  }
 },
 "nbformat": 4,
 "nbformat_minor": 5
}
